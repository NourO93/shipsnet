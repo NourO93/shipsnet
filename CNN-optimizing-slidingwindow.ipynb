{
 "cells": [
  {
   "cell_type": "code",
   "execution_count": 1,
   "metadata": {},
   "outputs": [
    {
     "name": "stderr",
     "output_type": "stream",
     "text": [
      "/anaconda3/lib/python3.6/site-packages/h5py/__init__.py:36: FutureWarning: Conversion of the second argument of issubdtype from `float` to `np.floating` is deprecated. In future, it will be treated as `np.float64 == np.dtype(float).type`.\n",
      "  from ._conv import register_converters as _register_converters\n",
      "Using TensorFlow backend.\n",
      "/anaconda3/lib/python3.6/site-packages/sklearn/cross_validation.py:41: DeprecationWarning: This module was deprecated in version 0.18 in favor of the model_selection module into which all the refactored classes and functions are moved. Also note that the interface of the new CV iterators are different from that of this module. This module will be removed in 0.20.\n",
      "  \"This module will be removed in 0.20.\", DeprecationWarning)\n"
     ]
    }
   ],
   "source": [
    "import random\n",
    "import numpy as np \n",
    "import pandas as pd \n",
    "import matplotlib.pyplot as plt\n",
    "import matplotlib.image as mpimg\n",
    "import matplotlib.patches as patches\n",
    "\n",
    "\n",
    "import json  \n",
    "import mpl_toolkits\n",
    "import os\n",
    "import pickle\n",
    "import glob\n",
    "import re\n",
    "import itertools\n",
    "from PIL import Image\n",
    "import time\n",
    "\n",
    "\n",
    "from skimage import color\n",
    "from skimage.feature import hog\n",
    "\n",
    "from skimage.transform import pyramid_gaussian\n",
    "from skimage.io import imread\n",
    "from skimage.feature import hog\n",
    "\n",
    "import cv2\n",
    "import argparse as ap\n",
    "\n",
    "\n",
    "import sklearn as sklearn\n",
    "from sklearn.metrics import confusion_matrix\n",
    "from keras.callbacks import Callback, EarlyStopping, ReduceLROnPlateau, ModelCheckpoint\n",
    "from sklearn import model_selection\n",
    "from sklearn.model_selection import train_test_split, learning_curve\n",
    "from sklearn.linear_model import LogisticRegression\n",
    "from sklearn.tree import DecisionTreeClassifier\n",
    "from sklearn.neighbors import KNeighborsClassifier\n",
    "from sklearn.naive_bayes import GaussianNB\n",
    "from sklearn.svm import SVC, LinearSVC\n",
    "from sklearn.ensemble import RandomForestClassifier, GradientBoostingClassifier\n",
    "from sklearn.neural_network import MLPClassifier as MLPC\n",
    "from sklearn.ensemble import GradientBoostingClassifier\n",
    "from sklearn.model_selection import cross_val_score\n",
    "from sklearn.externals import joblib\n",
    "from sklearn import model_selection\n",
    "from sklearn.model_selection import StratifiedShuffleSplit\n",
    "from sklearn.metrics import roc_curve, auc\n",
    "from keras.utils import np_utils\n",
    "\n",
    "import xgboost as xgb\n",
    "from xgboost import XGBClassifier\n",
    "\n",
    "import tensorflow as tf\n",
    "import keras\n",
    "from keras import backend as K\n",
    "from keras.models import Sequential\n",
    "from keras.layers import Dense, Dropout, Activation, Flatten, Conv2D, MaxPooling2D\n",
    "from keras import initializers, layers, models\n",
    "from keras.utils import to_categorical\n",
    "from keras.preprocessing.image import ImageDataGenerator\n",
    "from keras.callbacks import Callback, EarlyStopping, ReduceLROnPlateau, ModelCheckpoint\n",
    "from keras import callbacks\n",
    "from keras.utils.vis_utils import plot_model\n",
    "from keras.utils import np_utils\n",
    "from keras.optimizers import SGD\n",
    "\n",
    "\n",
    "from skimage.feature import hog\n",
    "from skimage import data, color, exposure\n",
    "from sklearn import cross_validation\n",
    "\n",
    "\n",
    "\n",
    "import pyimagesearch.imutils as imutils\n",
    "from pyimagesearch.helpers import pyramid\n",
    "from pyimagesearch.helpers import sliding_window"
   ]
  },
  {
   "cell_type": "code",
   "execution_count": 11,
   "metadata": {},
   "outputs": [],
   "source": [
    "image_data = pickle.load(open(\"ec2_push/image_data.pkl\", \"rb\"))"
   ]
  },
  {
   "cell_type": "code",
   "execution_count": 12,
   "metadata": {},
   "outputs": [],
   "source": [
    "image_tag = pickle.load(open(\"ec2_push/image_tag.pkl\",\"rb\"))"
   ]
  },
  {
   "cell_type": "markdown",
   "metadata": {},
   "source": [
    "# Gather Variables"
   ]
  },
  {
   "cell_type": "code",
   "execution_count": 17,
   "metadata": {},
   "outputs": [],
   "source": [
    "X = np.asarray(image_data)\n",
    "y = np.asarray(image_tag)"
   ]
  },
  {
   "cell_type": "code",
   "execution_count": 18,
   "metadata": {},
   "outputs": [],
   "source": [
    "X = X/ 255"
   ]
  },
  {
   "cell_type": "code",
   "execution_count": 19,
   "metadata": {},
   "outputs": [],
   "source": [
    "X_train, X_test, y_train, y_test = train_test_split(X, y, test_size=0.2, random_state = 1234, stratify = y, shuffle = True)"
   ]
  },
  {
   "cell_type": "code",
   "execution_count": 20,
   "metadata": {},
   "outputs": [],
   "source": [
    "# output encoding\n",
    "y_train = np_utils.to_categorical(y_train, 2)\n",
    "y_test = np_utils.to_categorical(y_test, 2)"
   ]
  },
  {
   "cell_type": "markdown",
   "metadata": {},
   "source": [
    "# Helper functions"
   ]
  },
  {
   "cell_type": "code",
   "execution_count": 22,
   "metadata": {},
   "outputs": [],
   "source": [
    "def scan_image(model,image,stepSize):\n",
    "    (winW, winH) = (80, 80)\n",
    "    output = []\n",
    "    cnn_windows = []\n",
    "    cnn_coords = []\n",
    "    i = 0\n",
    "    for (x, y, window) in sliding_window(image, stepSize=stepSize, windowSize=(winW, winH)):\n",
    "        if window.shape[0] != winH or window.shape[1] != winW:\n",
    "            continue\n",
    "        cnn_window = np.expand_dims(window, axis=0)\n",
    "        y_pred = model.predict(cnn_window)\n",
    "        y_pred_val = list(y_pred[0])[0]\n",
    "        if y_pred_val == 0.0 :\n",
    "            cnn_coords.append((x,y))\n",
    "            cnn_windows.append(window)\n",
    "        i+=1\n",
    "    output.append(cnn_windows)\n",
    "    output.append(cnn_coords)\n",
    "    return output"
   ]
  },
  {
   "cell_type": "code",
   "execution_count": 23,
   "metadata": {},
   "outputs": [],
   "source": [
    "def plot_found(cnn_coords,image):\n",
    "    plt.rcParams[\"figure.figsize\"] = (20,10)\n",
    "\n",
    "    fig,ax = plt.subplots(1)\n",
    "    ax.imshow(image)\n",
    "\n",
    "    for i in cnn_coords:\n",
    "        rect = patches.Rectangle(i,80,80,linewidth=4,edgecolor='r',facecolor='none')\n",
    "        ax.add_patch(rect)\n",
    "    plt.show()"
   ]
  },
  {
   "cell_type": "code",
   "execution_count": 33,
   "metadata": {},
   "outputs": [],
   "source": [
    "scene = cv2.imread('shipsnet_data/scenes/lb_1_crop.jpg')\n",
    "scene_full = cv2.imread('shipsnet_data/scenes/lb_1.jpg')\n",
    "sfbay_1 = cv2.imread('shipsnet_data/scenes/sfbay_1.png')\n",
    "\n",
    "import matplotlib.pyplot as plt\n",
    "plt.rcParams[\"figure.figsize\"] = (20,10)"
   ]
  },
  {
   "cell_type": "markdown",
   "metadata": {},
   "source": [
    "# Winning CNN from initial round"
   ]
  },
  {
   "cell_type": "code",
   "execution_count": 25,
   "metadata": {},
   "outputs": [],
   "source": [
    "np.random.seed(42)"
   ]
  },
  {
   "cell_type": "code",
   "execution_count": 26,
   "metadata": {},
   "outputs": [],
   "source": [
    "# network design\n",
    "model2 = Sequential()\n",
    "\n",
    "model2.add(Conv2D(32, (3, 3), padding='same', input_shape=(80, 80, 3), activation='relu'))\n",
    "model2.add(MaxPooling2D(pool_size=(2, 2))) #40x40\n",
    "model2.add(Dropout(0.25))\n",
    "\n",
    "model2.add(Conv2D(32, (3, 3), padding='same', activation='relu'))\n",
    "model2.add(MaxPooling2D(pool_size=(2, 2))) #20x20\n",
    "model2.add(Dropout(0.25))\n",
    "\n",
    "model2.add(Conv2D(32, (3, 3), padding='same', activation='relu'))\n",
    "model2.add(MaxPooling2D(pool_size=(2, 2))) #10x10\n",
    "model2.add(Dropout(0.25))\n",
    "\n",
    "model2.add(Conv2D(32, (10, 10), padding='same', activation='relu'))\n",
    "model2.add(MaxPooling2D(pool_size=(2, 2))) #5x5\n",
    "model2.add(Dropout(0.25))\n",
    "\n",
    "model2.add(Flatten())\n",
    "model2.add(Dense(512, activation='relu'))\n",
    "model2.add(Dropout(0.5))\n",
    "\n",
    "model2.add(Dense(2, activation='softmax'))"
   ]
  },
  {
   "cell_type": "code",
   "execution_count": 28,
   "metadata": {},
   "outputs": [],
   "source": [
    "datagen = ImageDataGenerator(\n",
    "        rotation_range=90,  # randomly rotate images in the range (degrees, 0 to 180)\n",
    "        horizontal_flip=True,  # randomly flip images\n",
    "        vertical_flip=True)  # randomly flip images\n",
    "datagen.fit(X_train)"
   ]
  },
  {
   "cell_type": "code",
   "execution_count": 32,
   "metadata": {},
   "outputs": [
    {
     "name": "stdout",
     "output_type": "stream",
     "text": [
      "Epoch 1/18\n",
      "70/70 [==============================] - 18s 263ms/step - loss: 0.3084 - acc: 0.8625\n",
      "Epoch 2/18\n",
      "70/70 [==============================] - 19s 276ms/step - loss: 0.2768 - acc: 0.8808\n",
      "Epoch 3/18\n",
      "70/70 [==============================] - 20s 283ms/step - loss: 0.2715 - acc: 0.8826\n",
      "Epoch 4/18\n",
      "70/70 [==============================] - 21s 301ms/step - loss: 0.2110 - acc: 0.9076\n",
      "Epoch 5/18\n",
      "70/70 [==============================] - 20s 287ms/step - loss: 0.1945 - acc: 0.9165\n",
      "Epoch 6/18\n",
      "70/70 [==============================] - 19s 268ms/step - loss: 0.1918 - acc: 0.9179\n",
      "Epoch 7/18\n",
      "70/70 [==============================] - 18s 264ms/step - loss: 0.1974 - acc: 0.9201\n",
      "Epoch 8/18\n",
      "70/70 [==============================] - 18s 264ms/step - loss: 0.1803 - acc: 0.9317\n",
      "Epoch 9/18\n",
      "70/70 [==============================] - 18s 253ms/step - loss: 0.1678 - acc: 0.9295\n",
      "Epoch 10/18\n",
      "70/70 [==============================] - 18s 251ms/step - loss: 0.1606 - acc: 0.9357\n",
      "Epoch 11/18\n",
      "70/70 [==============================] - 17s 249ms/step - loss: 0.1607 - acc: 0.9362\n",
      "Epoch 12/18\n",
      "70/70 [==============================] - 18s 253ms/step - loss: 0.1469 - acc: 0.9384\n",
      "Epoch 13/18\n",
      "70/70 [==============================] - 18s 263ms/step - loss: 0.1383 - acc: 0.9437\n",
      "Epoch 14/18\n",
      "70/70 [==============================] - 18s 251ms/step - loss: 0.1468 - acc: 0.9424\n",
      "Epoch 15/18\n",
      "70/70 [==============================] - 17s 249ms/step - loss: 0.1373 - acc: 0.9469\n",
      "Epoch 16/18\n",
      "70/70 [==============================] - 17s 247ms/step - loss: 0.1291 - acc: 0.9504\n",
      "Epoch 17/18\n",
      "70/70 [==============================] - 18s 254ms/step - loss: 0.1411 - acc: 0.9500\n",
      "Epoch 18/18\n",
      "70/70 [==============================] - 17s 241ms/step - loss: 0.1306 - acc: 0.9491\n"
     ]
    },
    {
     "data": {
      "text/plain": [
       "<keras.callbacks.History at 0x1c2daa1a90>"
      ]
     },
     "execution_count": 32,
     "metadata": {},
     "output_type": "execute_result"
    }
   ],
   "source": [
    "sgd = SGD(lr=0.01, momentum=0.9, nesterov=True)\n",
    "model2.compile(\n",
    "    loss='categorical_crossentropy',\n",
    "    optimizer=sgd,\n",
    "    metrics=['accuracy'])\n",
    "\n",
    "model2.fit_generator(datagen.flow(X_train, y_train, batch_size=32), shuffle=True, epochs=18,verbose=1)\n"
   ]
  },
  {
   "cell_type": "code",
   "execution_count": null,
   "metadata": {},
   "outputs": [],
   "source": [
    "model2_output = scan_image(model2,scene_full,12)\n",
    "plot_found(model2_output[1],scene_full)"
   ]
  },
  {
   "cell_type": "code",
   "execution_count": null,
   "metadata": {},
   "outputs": [],
   "source": []
  }
 ],
 "metadata": {
  "kernelspec": {
   "display_name": "Python [conda root]",
   "language": "python",
   "name": "conda-root-py"
  },
  "language_info": {
   "codemirror_mode": {
    "name": "ipython",
    "version": 3
   },
   "file_extension": ".py",
   "mimetype": "text/x-python",
   "name": "python",
   "nbconvert_exporter": "python",
   "pygments_lexer": "ipython3",
   "version": "3.6.3"
  },
  "toc": {
   "base_numbering": 1,
   "nav_menu": {},
   "number_sections": true,
   "sideBar": true,
   "skip_h1_title": false,
   "title_cell": "Table of Contents",
   "title_sidebar": "Contents",
   "toc_cell": false,
   "toc_position": {},
   "toc_section_display": true,
   "toc_window_display": false
  }
 },
 "nbformat": 4,
 "nbformat_minor": 2
}
